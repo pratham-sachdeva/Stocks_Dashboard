{
 "cells": [
  {
   "cell_type": "code",
   "execution_count": 2,
   "id": "ef012d4b",
   "metadata": {},
   "outputs": [],
   "source": [
    "import streamlit as st\n",
    "import yfinance as yf\n",
    "import plotly.graph_objects as go\n",
    "import plotly.express as px\n",
    "import requests\n",
    "import numpy as np\n",
    "from bs4 import BeautifulSoup\n",
    "import pandas as pd\n",
    "import matplotlib.pyplot as plt"
   ]
  },
  {
   "cell_type": "code",
   "execution_count": 3,
   "id": "eaee553a",
   "metadata": {},
   "outputs": [],
   "source": [
    "import pandas as pd\n",
    "\n",
    "# Fetch the list of S&P 500 components from Wikipedia\n",
    "url = \"https://en.wikipedia.org/wiki/List_of_S%26P_500_companies\"\n",
    "sp500_data = pd.read_html(url)[0]\n",
    "\n",
    "# Extract the ticker symbols\n",
    "sp500_tickers = sp500_data['Symbol'].tolist()\n"
   ]
  },
  {
   "cell_type": "code",
   "execution_count": 4,
   "id": "e9c5cd8d",
   "metadata": {},
   "outputs": [],
   "source": [
    "url = \"https://en.wikipedia.org/wiki/NASDAQ-100\"\n",
    "nasdaq100_data = pd.read_html(url)[4]\n",
    "\n",
    "# Extract the ticker symbols\n",
    "nasdaq100_tickers = nasdaq100_data['Ticker'].tolist()\n"
   ]
  },
  {
   "cell_type": "code",
   "execution_count": 5,
   "id": "c12a7896",
   "metadata": {},
   "outputs": [],
   "source": [
    "url = \"https://en.wikipedia.org/wiki/Dow_Jones_Industrial_Average\"\n",
    "djia_data = pd.read_html(url)[1]\n",
    "\n",
    "# Extract the ticker symbols\n",
    "djia_tickers = djia_data['Symbol'].tolist()\n"
   ]
  },
  {
   "cell_type": "code",
   "execution_count": 6,
   "id": "8226f7d7",
   "metadata": {},
   "outputs": [],
   "source": [
    "url = \"https://en.wikipedia.org/wiki/FTSE_100_Index\"\n",
    "ftse100_data = pd.read_html(url)[4]\n",
    "\n",
    "# Extract the ticker symbols\n",
    "ftse100_tickers = ftse100_data['Ticker'].tolist()\n",
    "\n"
   ]
  },
  {
   "cell_type": "code",
   "execution_count": 7,
   "id": "219476c7",
   "metadata": {},
   "outputs": [
    {
     "name": "stderr",
     "output_type": "stream",
     "text": [
      "2023-08-19 01:42:23.971 \n",
      "  \u001b[33m\u001b[1mWarning:\u001b[0m to view this Streamlit app on a browser, run it with the following\n",
      "  command:\n",
      "\n",
      "    streamlit run C:\\Users\\pratham\\anaconda3\\lib\\site-packages\\ipykernel_launcher.py [ARGUMENTS]\n"
     ]
    }
   ],
   "source": [
    "# List of available indexes\n",
    "available_indexes = [\"S&P 500\", \"NASDAQ 100\", \"DOWJONES\", \"FTSE 100\"]\n",
    "\n",
    "# Sidebar: Index Selection\n",
    "index_selection = st.sidebar.selectbox(\"Select an Index\", available_indexes)"
   ]
  },
  {
   "cell_type": "code",
   "execution_count": 8,
   "id": "e55eb288",
   "metadata": {},
   "outputs": [],
   "source": [
    "def get_stock_list(index_name):\n",
    "    \n",
    "    if index_name == \"S&P 500\":\n",
    "        \n",
    "        stock_list = sp500_data\n",
    "    \n",
    "    elif index_name == \"NASDAQ 100\":\n",
    "        \n",
    "        stock_list = nasdaq100_tickers\n",
    "        \n",
    "    elif index_name == \"DOWJONES\":\n",
    "        \n",
    "        stock_list = djia_tickers\n",
    "        \n",
    "    elif index_name == \"FTSE 100\":\n",
    "        \n",
    "        stock_list = ftse100_tickers\n",
    "            \n",
    "    else:\n",
    "        stock_list = []\n",
    "    \n",
    "    return stock_list"
   ]
  },
  {
   "cell_type": "code",
   "execution_count": 9,
   "id": "ef4c2fe5",
   "metadata": {},
   "outputs": [],
   "source": [
    "ticker_list = get_stock_list(index_selection)"
   ]
  },
  {
   "cell_type": "code",
   "execution_count": 40,
   "id": "5cb0f009",
   "metadata": {
    "scrolled": false
   },
   "outputs": [
    {
     "data": {
      "text/plain": [
       "DeltaGenerator()"
      ]
     },
     "execution_count": 40,
     "metadata": {},
     "output_type": "execute_result"
    }
   ],
   "source": [
    "st.markdown(\"<h1 style='text-align: center;'>Financial Dashboard</h1>\", unsafe_allow_html=True)"
   ]
  },
  {
   "cell_type": "code",
   "execution_count": 11,
   "id": "b18b3591",
   "metadata": {},
   "outputs": [],
   "source": [
    "# Function to get historical stock data\n",
    "def get_stock_data(stock_symbol, start_date, end_date):\n",
    "    stock_data = yf.download(stock_symbol, start=start_date, end=end_date)\n",
    "    return stock_data"
   ]
  },
  {
   "cell_type": "code",
   "execution_count": 12,
   "id": "677f241a",
   "metadata": {},
   "outputs": [],
   "source": [
    "def get_currency(stock_symbol):\n",
    "    stock_data_other = yf.Ticker(stock_symbol)\n",
    "    info = stock_data_other.info['longName']\n",
    "    currency = stock_data_other.info['currency']\n",
    "    \n",
    "    return info,currency \n",
    "    "
   ]
  },
  {
   "cell_type": "code",
   "execution_count": 13,
   "id": "126160d4",
   "metadata": {},
   "outputs": [],
   "source": [
    "a = get_currency(\"AAPL\")"
   ]
  },
  {
   "cell_type": "code",
   "execution_count": 14,
   "id": "474d2d83",
   "metadata": {},
   "outputs": [
    {
     "name": "stdout",
     "output_type": "stream",
     "text": [
      "Apple Inc.\n"
     ]
    }
   ],
   "source": [
    "print(a[0])"
   ]
  },
  {
   "cell_type": "code",
   "execution_count": 15,
   "id": "1676d168",
   "metadata": {},
   "outputs": [
    {
     "name": "stdout",
     "output_type": "stream",
     "text": [
      "\r",
      "[*********************100%***********************]  1 of 1 completed"
     ]
    },
    {
     "name": "stderr",
     "output_type": "stream",
     "text": [
      "\n",
      "1 Failed download:\n",
      "['MMM']: Exception(\"%ticker%: Data doesn't exist for startDate = 1692417600, endDate = 1692417600\")\n"
     ]
    },
    {
     "name": "stdout",
     "output_type": "stream",
     "text": [
      "\n"
     ]
    }
   ],
   "source": [
    "# Get user input for stock symbol from a list of tickers\n",
    "\n",
    "st.sidebar.title(\"Select Stock Symbols\")\n",
    "selected_stock = st.sidebar.selectbox(\"Select a stock symbol\", ticker_list)\n",
    "start_date = st.sidebar.date_input(\"Start Date\")\n",
    "end_date = st.sidebar.date_input(\"End Date\")\n",
    "\n",
    "# Ensure the start date is before the end date\n",
    "if start_date >= end_date:\n",
    "    st.error(\"Error: Start date must be before end date.\")\n",
    "    \n",
    "# Fetch data and display price chart\n",
    "stock_data = get_stock_data(selected_stock, start_date, end_date)\n",
    "other_data = get_currency(selected_stock)\n",
    "\n",
    "st.subheader(f\"{other_data[0]} ({selected_stock}) Stock Price\")\n",
    "\n",
    "if stock_data.empty:\n",
    "    st.write(\"Data not available for this stock symbol in the specified date range.\")\n",
    "else:\n",
    "    fig = go.Figure(data=go.Candlestick(x=stock_data.index,\n",
    "                                       open=stock_data['Open'],\n",
    "                                       high=stock_data['High'],\n",
    "                                       low=stock_data['Low'],\n",
    "                                       close=stock_data['Close']))\n",
    "    \n",
    "    fig.update_layout(yaxis_title=f'Price ({other_data[1]})')\n",
    "    \n",
    "    st.plotly_chart(fig)"
   ]
  },
  {
   "cell_type": "code",
   "execution_count": 44,
   "id": "b3b9c657",
   "metadata": {},
   "outputs": [],
   "source": []
  },
  {
   "cell_type": "code",
   "execution_count": 19,
   "id": "0df065a2",
   "metadata": {},
   "outputs": [
    {
     "name": "stdout",
     "output_type": "stream",
     "text": [
      "\r",
      "[*********************100%***********************]  1 of 1 completed"
     ]
    },
    {
     "name": "stderr",
     "output_type": "stream",
     "text": [
      "\n",
      "1 Failed download:\n",
      "['MMM']: Exception(\"%ticker%: Data doesn't exist for startDate = 1692417600, endDate = 1692417600\")\n"
     ]
    },
    {
     "name": "stdout",
     "output_type": "stream",
     "text": [
      "\n"
     ]
    }
   ],
   "source": [
    "st.header(\"Stock Price Comparison\")\n",
    "\n",
    "# Get user input for two stock symbols from the list of tickers\n",
    "\n",
    "selected_stock2 = st.selectbox(\"Select the second stock symbol\", ticker_list)\n",
    "\n",
    "# Fetch data for second stock\n",
    "stock_data2 = get_stock_data(selected_stock2, start_date, end_date)\n",
    "\n",
    "\n",
    "if stock_data.empty or stock_data2.empty:\n",
    "    st.write(\"Data not available for one or more selected stock symbols in the specified date range.\")\n",
    "else:\n",
    "    # Create a candlestick chart for the first stock\n",
    "    fig = go.Figure()\n",
    "    fig.add_trace(go.Scatter(x=stock_data.index,\n",
    "                             y=stock_data['Close'],\n",
    "                             mode='lines',\n",
    "                             name=f\"{selected_stock} Closing Price\"))\n",
    "\n",
    "    # Create a line chart for the closing prices of the second stock\n",
    "    fig.add_trace(go.Scatter(x=stock_data2.index,\n",
    "                            y=stock_data2['Close'],\n",
    "                            mode='lines',\n",
    "                            name=f\"{selected_stock2} Closing Price\"))\n",
    "\n",
    "    fig.update_layout(title='Stock Price Comparison',\n",
    "                        xaxis_title='Date',\n",
    "                        yaxis_title='Price',\n",
    "                        yaxis2=dict(title='Closing Price', overlaying='y', side='right'),\n",
    "                        legend=dict(x=0, y=1.2))\n",
    "\n",
    "    st.plotly_chart(fig)\n",
    "\n",
    "\n",
    "\n",
    "\n",
    "    "
   ]
  },
  {
   "cell_type": "code",
   "execution_count": 45,
   "id": "89acbb00",
   "metadata": {},
   "outputs": [],
   "source": [
    "stock_summary, pricing_data, fundamental_data, news  = st.tabs([\"Stock Summary\",\"Pricing Data\", \"Fundamental Data\", \"Top News\"])"
   ]
  },
  {
   "cell_type": "code",
   "execution_count": 47,
   "id": "f58ea79f",
   "metadata": {},
   "outputs": [],
   "source": [
    "with stock_summary:\n",
    "    if not stock_data.empty:\n",
    "        # Calculate 1-Year Change\n",
    "        one_year_change = ((stock_data[\"Adj Close\"][-1] / stock_data[\"Adj Close\"][0]) - 1) * 100\n",
    "    \n",
    "        # Calculate average volume for the last 3 months\n",
    "        average_vol_3m = stock_data[\"Volume\"].tail(63).mean()\n",
    "\n",
    "        prev_close = stock_data[\"Close\"][-2]\n",
    "        open_price = stock_data[\"Open\"][-1]\n",
    "        volume = stock_data[\"Volume\"][-1]\n",
    "        day_range = f\"{stock_data['Low'][-1]:,.2f}-{stock_data['High'][-1]:,.2f}\"\n",
    "        fifty_two_week_range = f\"{stock_data['Low'].min():,.2f}-{stock_data['High'].max():,.2f}\"\n",
    "    \n",
    "        st.subheader(f\"Stock Summary: {other_data[0]}\")\n",
    "        st.markdown(f\"**Prev. Close:** ${prev_close:,.2f}\")\n",
    "        st.markdown(f\"**Open:** ${open_price:,.2f}\")\n",
    "        st.markdown(f\"**1-Year Change:** {one_year_change:.2f}%\")\n",
    "        st.markdown(f\"**Volume:** {volume:,.0f}\")\n",
    "        st.markdown(f\"**Average Vol. (3m):** {average_vol_3m:,.0f}\")\n",
    "        st.markdown(f\"**Day's Range:** {day_range}\")\n",
    "        st.markdown(f\"**52 wk Range:** {fifty_two_week_range}\")"
   ]
  },
  {
   "cell_type": "code",
   "execution_count": 21,
   "id": "76402e94",
   "metadata": {},
   "outputs": [],
   "source": [
    "with pricing_data:\n",
    "    st.header('Price Movements')\n",
    "    updated_data = stock_data\n",
    "    updated_data[\"% Change\"] = stock_data[\"Adj Close\"] / stock_data[\"Adj Close\"].shift(1) - 1\n",
    "    st.write(updated_data)\n",
    "    \n",
    "    annual_return = updated_data[\"% Change\"].mean()*252*100\n",
    "    annual_return_color = \"green\" if annual_return >= 0 else \"red\"\n",
    "    st.markdown(f\"Annual Return: <span style='color:{annual_return_color}'>{round(annual_return, 2)}%</span>\", unsafe_allow_html=True)\n",
    "    \n",
    "    stdev = np.std(updated_data[\"% Change\"]) * np.sqrt(252)\n",
    "    stdev_color = \"green\" if stdev >= 0 else \"red\"\n",
    "    st.markdown(f\"Standard Deviation is: <span style='color:{stdev_color}'>{round(stdev * 100, 2)}%</span>\", unsafe_allow_html=True)"
   ]
  },
  {
   "cell_type": "code",
   "execution_count": 22,
   "id": "2533324c",
   "metadata": {},
   "outputs": [],
   "source": [
    "def print_stock_news(stock_symbol):\n",
    "    stock = yf.Ticker(stock_symbol)\n",
    "    news = stock.news\n",
    "    top_news = []\n",
    "    for item in news[:5]:\n",
    "        title = item['title']\n",
    "        link = item['link']\n",
    "        publish_date = item['providerPublishTime']\n",
    "        news_info = {\n",
    "            \"title\": title,\n",
    "            \"link\": link,\n",
    "            \"published_date\": publish_date\n",
    "        }\n",
    "        top_news.append(news_info)\n",
    "    return top_news"
   ]
  },
  {
   "cell_type": "code",
   "execution_count": 23,
   "id": "ecdb35f5",
   "metadata": {},
   "outputs": [],
   "source": [
    "if selected_stock:\n",
    "    top_5_news = print_stock_news(selected_stock)"
   ]
  },
  {
   "cell_type": "code",
   "execution_count": 24,
   "id": "91773ace",
   "metadata": {},
   "outputs": [],
   "source": [
    "with news:\n",
    "    st.subheader(f'Top News for ({selected_stock})')\n",
    "    for i, news_item in enumerate(top_5_news):\n",
    "        st.subheader(f'News {i+1}')\n",
    "        st.write(\"Title:\", news_item['title'])\n",
    "        st.write(\"Link:\", news_item['link'])\n",
    "        \n",
    "                     "
   ]
  },
  {
   "cell_type": "code",
   "execution_count": 25,
   "id": "60262d43",
   "metadata": {},
   "outputs": [],
   "source": [
    "def get_fundamental_metrics(stock_symbol):\n",
    "    stock = yf.Ticker(stock_symbol)\n",
    "    info = stock.info\n",
    "\n",
    "    # Map API response fields to desired metrics\n",
    "    fundamental_metrics = {\n",
    "        \"Market Cap\": info.get(\"marketCap\"),\n",
    "        \"Forward P/E\": info.get(\"forwardPE\"),\n",
    "        \"Trailing P/E\": info.get(\"trailingPE\"),\n",
    "        \"Dividend Yield\": info.get(\"dividendYield\") * 100 if info.get(\"dividendYield\") else None,\n",
    "        \"Earnings Per Share (EPS)\": info.get(\"trailingEps\"),\n",
    "        \"Beta\": info.get(\"beta\")\n",
    "    }\n",
    "\n",
    "    return fundamental_metrics"
   ]
  },
  {
   "cell_type": "code",
   "execution_count": 26,
   "id": "0e168a3d",
   "metadata": {},
   "outputs": [],
   "source": [
    "\n",
    "with fundamental_data:\n",
    "    st.header(\"Fundamental Data\")\n",
    "    st.subheader(f\"Fundamental Data for ({selected_stock})\")\n",
    "\n",
    "    fundamental_metrics = get_fundamental_metrics(selected_stock)\n",
    "\n",
    "    for metric, value in fundamental_metrics.items():\n",
    "        st.write(f\"{metric}: {value}\")"
   ]
  },
  {
   "cell_type": "code",
   "execution_count": null,
   "id": "086f959a",
   "metadata": {},
   "outputs": [],
   "source": []
  },
  {
   "cell_type": "code",
   "execution_count": 27,
   "id": "2906b4db",
   "metadata": {},
   "outputs": [],
   "source": [
    "from alpha_vantage.techindicators import TechIndicators\n",
    "from alpha_vantage.timeseries import TimeSeries"
   ]
  },
  {
   "cell_type": "markdown",
   "id": "9cfe5476",
   "metadata": {},
   "source": [
    "def get_alpha_vantage_indicator_data(stock_symbol, indicator_type, api_key):\n",
    "    \n",
    "    ts = TimeSeries(key=api_key, output_format='pandas')\n",
    "    data_ts, meta_data_ts = ts.get_daily(stock_symbol, outputsize='full')\n",
    "    \n",
    "    period = 60\n",
    "    \n",
    "    ti = TechIndicators(key=api_key, output_format='pandas')\n",
    "    \n",
    "    if indicator_type == \"sma\":\n",
    "        data, meta_data = ti.get_sma(symbol=stock_symbol,interval='daily', time_period = period, series_type='close')\n",
    "    elif indicator_type == \"ema\":\n",
    "        data, meta_data = ti.get_ema(symbol=stock_symbol,interval='daily', time_period = period, series_type='close')\n",
    "    elif indicator_type == \"rsi\":\n",
    "        data, meta_data = ti.get_rsi(symbol=stock_symbol,interval='daily', time_period = period, series_type='close')\n",
    "        \n",
    "    df1 = data\n",
    "    df2 = data_ts['4. close'].iloc[period-1::]\n",
    "    df2.index = df1.index\n",
    "    total_df = pd.concat([df1,df2], axis=1)\n",
    "    \n",
    "    return total_df"
   ]
  },
  {
   "cell_type": "markdown",
   "id": "fb4ac323",
   "metadata": {},
   "source": [
    "with st.sidebar:\n",
    "    indicator_type = st.selectbox(\"Select Indicator Type\", [\"sma\", \"ema\", \"rsi\"])\n",
    "    "
   ]
  },
  {
   "cell_type": "markdown",
   "id": "2cbd158b",
   "metadata": {},
   "source": [
    "indicator_column_mapping = {\n",
    "        \"sma\": \"SMA\",  \n",
    "        \"ema\": \"EMA\",\n",
    "        \"rsi\": \"RSI\"\n",
    "        \n",
    "    }"
   ]
  },
  {
   "cell_type": "markdown",
   "id": "b13b908d",
   "metadata": {},
   "source": [
    "indicator_column_name = indicator_column_mapping.get(indicator_type)"
   ]
  },
  {
   "cell_type": "markdown",
   "id": "fbbeb216",
   "metadata": {
    "collapsed": true
   },
   "source": [
    "with st.header(\"Technical Indicator Analysis\"):\n",
    "        \n",
    "    indicator_data = get_alpha_vantage_indicator_data(selected_stock, indicator_type, api_key= 'FUR59JMM1VD9MNKI')\n",
    "    \n",
    "    if not indicator_data.empty:\n",
    "            print(indicator_data)\n",
    "            \n",
    "            fig = go.Figure()\n",
    "            fig.add_trace(go.Scatter(x=stock_data.index, y=stock_data['Close'],\n",
    "                                   mode='lines', name=f\"Closing Price - {selected_stock}\"))\n",
    "            fig.add_trace(go.Scatter(x=indicator_data.index, y=indicator_data[indicator_column_name],\n",
    "                                 mode='lines', name=f\"{indicator_type.upper()} - {selected_stock}\"))\n",
    "            fig.update_layout(title=f\"{indicator_type.upper()} vs Closing Price for ({selected_stock})\",\n",
    "                          xaxis_title='Date', yaxis_title='Value')\n",
    "            st.plotly_chart(fig)\n",
    "            \n",
    "    else:\n",
    "        st.write(\"Indicator data not available for this stock symbol.\")"
   ]
  },
  {
   "cell_type": "markdown",
   "id": "bb23cec0",
   "metadata": {},
   "source": [
    "stock_performance = {}\n",
    "\n",
    "for ticker in ticker_list:\n",
    "    stock_p_data = yf.download(ticker, start=start_date, end=end_date)\n",
    "    if not stock_data.empty:\n",
    "        percent_change = (stock_p_data['Adj Close'].iloc[-1] / stock_p_data['Adj Close'].iloc[0] - 1) * 100\n",
    "        stock_performance[ticker] = percent_change\n",
    "        \n",
    "top_performing_stocks = sorted(stock_performance.items(), key=lambda x: x[1], reverse=True)[:10]\n",
    "top_stocks = [stock[0] for stock in top_performing_stocks]\n",
    "\n",
    "\n",
    "# Fetch historical stock data for the top performing stocks\n",
    "top_stocks_data = {}\n",
    "for ticker in top_stocks:\n",
    "    stock_p_data = yf.download(ticker, start=start_date, end=end_date)\n",
    "    top_stocks_data[ticker] = stock_p_data"
   ]
  },
  {
   "cell_type": "markdown",
   "id": "fbc4114b",
   "metadata": {},
   "source": [
    "# Create a line chart to visualize the performance\n",
    "fig = go.Figure()\n",
    "for ticker, stock_p_data in top_stocks_data.items():\n",
    "    fig.add_trace(go.Scatter(x=stock_p_data.index, y=stock_p_data['Adj Close'], mode='lines', name=ticker))\n",
    "\n",
    "fig.update_layout(title=f\"Top 10 Performing Stocks in {index_selection}\",\n",
    "                  xaxis_title='Date', yaxis_title='Price',\n",
    "                  legend=dict(x=0, y=1.2))\n",
    "st.plotly_chart(fig)"
   ]
  },
  {
   "cell_type": "code",
   "execution_count": 28,
   "id": "5dae5ecf",
   "metadata": {},
   "outputs": [],
   "source": [
    "def fetch_market_cap_data(index_tickers):\n",
    "    market_cap_data = {}\n",
    "    for ticker in index_tickers:\n",
    "        try:\n",
    "            stock_info = yf.Ticker(ticker).info\n",
    "            if \"marketCap\" in stock_info and stock_info[\"marketCap\"]:\n",
    "                if \"longName\" in stock_info and stock_info[\"longName\"]:\n",
    "                    market_cap_data[ticker] = {\n",
    "                        \"LongName\": stock_info[\"longName\"],\n",
    "                        \"MarketCap\": float(stock_info[\"marketCap\"])\n",
    "                    }\n",
    "        except requests.exceptions.HTTPError as e:\n",
    "            pass\n",
    "        \n",
    "    df = pd.DataFrame(market_cap_data.values(), index=market_cap_data.keys())\n",
    "    return df"
   ]
  },
  {
   "cell_type": "code",
   "execution_count": 29,
   "id": "feebb50e",
   "metadata": {},
   "outputs": [],
   "source": [
    "new_tickerlist_nasdaq = ['AAPL','MSFT', 'GOOG', 'GOOGL', 'AMZN', 'NVDA', 'META', 'TSLA', 'AVGO', 'ASML']"
   ]
  },
  {
   "cell_type": "code",
   "execution_count": 30,
   "id": "5d4658e5",
   "metadata": {},
   "outputs": [],
   "source": [
    "new_tickerlist_sp500 = ['AAPL', 'MSFT', 'GOOG', 'GOOGL', 'AMZN', 'NVDA', 'META', 'TSLA', 'LLY', 'V']"
   ]
  },
  {
   "cell_type": "code",
   "execution_count": 31,
   "id": "356c1d52",
   "metadata": {},
   "outputs": [],
   "source": [
    "new_tickerlist_dowjones = ['AAPL', 'MSFT', 'V', 'UNH', 'JNJ', 'JPM', 'WMT', 'PG', 'HD', 'CVX']"
   ]
  },
  {
   "cell_type": "code",
   "execution_count": 32,
   "id": "75d6366e",
   "metadata": {},
   "outputs": [],
   "source": [
    "new_tickerlist_ftse100 = ['AZN', 'SHEL', 'BA', 'BP', 'RIO', 'GSK', 'JD', 'ADM', 'CRH', 'HLN']"
   ]
  },
  {
   "cell_type": "code",
   "execution_count": 33,
   "id": "0952be3d",
   "metadata": {},
   "outputs": [],
   "source": [
    "\n",
    "if index_selection == \"S&P 500\":\n",
    "    ticker_list_2 = new_tickerlist_sp500\n",
    "    market_cap_df = fetch_market_cap_data(ticker_list_2)\n",
    "    top_10_stocks = market_cap_df.nlargest(10, \"MarketCap\")\n",
    "\n",
    "elif index_selection == \"NASDAQ 100\":\n",
    "    ticker_list_2 = new_tickerlist_nasdaq\n",
    "    market_cap_df = fetch_market_cap_data(ticker_list_2)\n",
    "    top_10_stocks = market_cap_df.nlargest(10, \"MarketCap\")\n",
    "\n",
    "elif index_selection == \"DOWJONES\":\n",
    "    ticker_list_2 = new_tickerlist_dowjones\n",
    "    market_cap_df = fetch_market_cap_data(ticker_list_2)\n",
    "    top_10_stocks = market_cap_df.nlargest(10, \"MarketCap\")\n",
    "\n",
    "elif index_selection == \"FTSE 100\":\n",
    "    ticker_list_2 = new_tickerlist_ftse100\n",
    "    market_cap_df = fetch_market_cap_data(ticker_list_2)\n",
    "    top_10_stocks = market_cap_df.nlargest(10, \"MarketCap\")\n",
    "    \n",
    "else:\n",
    "    ticker_list_2 = []"
   ]
  },
  {
   "cell_type": "code",
   "execution_count": 50,
   "id": "b500ce49",
   "metadata": {},
   "outputs": [
    {
     "name": "stderr",
     "output_type": "stream",
     "text": [
      "C:\\Users\\pratham\\anaconda3\\lib\\site-packages\\plotly\\express\\_core.py:1637: FutureWarning:\n",
      "\n",
      "The frame.append method is deprecated and will be removed from pandas in a future version. Use pandas.concat instead.\n",
      "\n"
     ]
    },
    {
     "data": {
      "text/plain": [
       "DeltaGenerator()"
      ]
     },
     "execution_count": 50,
     "metadata": {},
     "output_type": "execute_result"
    }
   ],
   "source": [
    "st.header(f'Top Stocks by Market Cap {index_selection}')\n",
    "# Plot a treemap using Plotly Express\n",
    "fig = px.treemap(top_10_stocks, path=['LongName'], values='MarketCap',\n",
    "                 color='MarketCap')\n",
    "st.plotly_chart(fig)"
   ]
  },
  {
   "cell_type": "code",
   "execution_count": null,
   "id": "8dd5dde5",
   "metadata": {},
   "outputs": [],
   "source": []
  },
  {
   "cell_type": "code",
   "execution_count": 35,
   "id": "8e25eb22",
   "metadata": {},
   "outputs": [],
   "source": [
    "def plot_sma_vs_closing_price(stock_symbol, start, end):\n",
    "    # Retrieve stock data using yfinance\n",
    "    stock_data = yf.download(stock_symbol, start, end)\n",
    "    \n",
    "    # Calculate Simple Moving Average (SMA)\n",
    "    sma_period = 60\n",
    "    stock_data['SMA'] = stock_data['Close'].rolling(window=sma_period).mean()\n",
    "    \n",
    "   # Create a Plotly figure\n",
    "    fig = go.Figure()\n",
    "    fig.add_trace(go.Scatter(x=stock_data.index, y=stock_data['Close'], mode='lines', name='Closing Price'))\n",
    "    fig.add_trace(go.Scatter(x=stock_data.index, y=stock_data['SMA'], mode='lines', name=f'SMA {sma_period}'))\n",
    "    \n",
    "    # Customize the layout\n",
    "    fig.update_layout(\n",
    "        xaxis_title='Date',\n",
    "        yaxis_title='Price',\n",
    "        title=f'{stock_symbol} Closing Price vs. SMA',\n",
    "        legend=dict(x=0, y=1)\n",
    "    )\n",
    "    \n",
    "    # Display the Plotly figure in Streamlit\n",
    "    st.plotly_chart(fig)"
   ]
  },
  {
   "cell_type": "code",
   "execution_count": 36,
   "id": "a322c988",
   "metadata": {},
   "outputs": [],
   "source": [
    "\n",
    "def plot_ema_vs_closing_price(stock_symbol, start, end):\n",
    "    # Retrieve stock data using yfinance\n",
    "    stock_data = yf.download(stock_symbol, start=start, end=end)\n",
    "    \n",
    "    ema_period = 20\n",
    "    # Calculate Exponential Moving Average (EMA)\n",
    "    stock_data['EMA'] = stock_data['Close'].ewm(span=ema_period).mean()\n",
    "    \n",
    "    # Create a Plotly figure\n",
    "    fig = go.Figure()\n",
    "    fig.add_trace(go.Scatter(x=stock_data.index, y=stock_data['Close'], mode='lines', name='Closing Price'))\n",
    "    fig.add_trace(go.Scatter(x=stock_data.index, y=stock_data['EMA'], mode='lines', name=f'EMA {ema_period}'))\n",
    "    \n",
    "    # Customize the layout\n",
    "    fig.update_layout(\n",
    "        xaxis_title='Date',\n",
    "        yaxis_title='Price',\n",
    "        title=f'{stock_symbol} Closing Price vs. EMA',\n",
    "        legend=dict(x=0, y=1)\n",
    "    )\n",
    "    \n",
    "    # Display the Plotly figure in Streamlit\n",
    "    st.plotly_chart(fig)"
   ]
  },
  {
   "cell_type": "code",
   "execution_count": 37,
   "id": "6898c1ad",
   "metadata": {},
   "outputs": [],
   "source": [
    "with st.sidebar: indicator_type = st.selectbox(\"Select Indicator Type\", [\"sma\", \"ema\"])\n",
    "                                               "
   ]
  },
  {
   "cell_type": "markdown",
   "id": "5cf96f24",
   "metadata": {},
   "source": [
    "indicator_column_mapping = { \"sma\": \"SMA\",\n",
    "                            \"ema\": \"EMA\"}\n",
    "\n",
    "indicator_column_name = indicator_column_mapping.get(indicator_type)"
   ]
  },
  {
   "cell_type": "code",
   "execution_count": 51,
   "id": "156238dc",
   "metadata": {},
   "outputs": [
    {
     "name": "stdout",
     "output_type": "stream",
     "text": [
      "\r",
      "[*********************100%***********************]  1 of 1 completed"
     ]
    },
    {
     "name": "stderr",
     "output_type": "stream",
     "text": [
      "\n",
      "1 Failed download:\n",
      "['MMM']: Exception(\"%ticker%: Data doesn't exist for startDate = 1692417600, endDate = 1692417600\")\n"
     ]
    },
    {
     "name": "stdout",
     "output_type": "stream",
     "text": [
      "\n"
     ]
    }
   ],
   "source": [
    "if indicator_type == \"sma\":\n",
    "    st.header(\"Stock SMA vs. Closing Price\")\n",
    "    sma_plot = plot_sma_vs_closing_price(selected_stock, start_date, end_date)\n",
    "    \n",
    "elif indicator_type == 'ema':\n",
    "        st.header(\"Stock EMA vs. Closing Price\")\n",
    "        ema_plot = plot_ema_vs_closing_price(selected_stock, start_date, end_date)       \n"
   ]
  },
  {
   "cell_type": "code",
   "execution_count": null,
   "id": "a961aaa0",
   "metadata": {},
   "outputs": [],
   "source": []
  }
 ],
 "metadata": {
  "kernelspec": {
   "display_name": "Python 3 (ipykernel)",
   "language": "python",
   "name": "python3"
  },
  "language_info": {
   "codemirror_mode": {
    "name": "ipython",
    "version": 3
   },
   "file_extension": ".py",
   "mimetype": "text/x-python",
   "name": "python",
   "nbconvert_exporter": "python",
   "pygments_lexer": "ipython3",
   "version": "3.9.12"
  }
 },
 "nbformat": 4,
 "nbformat_minor": 5
}
